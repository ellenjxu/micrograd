{
 "cells": [
  {
   "cell_type": "markdown",
   "metadata": {},
   "source": [
    "TODO: make an embedding space that is 3D and plot it"
   ]
  },
  {
   "cell_type": "code",
   "execution_count": 2,
   "metadata": {},
   "outputs": [],
   "source": [
    "import torch\n",
    "import torch.nn.functional as F\n",
    "import matplotlib.pyplot as plt # for making figures\n",
    "%matplotlib inline"
   ]
  },
  {
   "cell_type": "code",
   "execution_count": 2,
   "metadata": {},
   "outputs": [
    {
     "data": {
      "text/plain": [
       "['emma', 'olivia', 'ava', 'isabella', 'sophia']"
      ]
     },
     "execution_count": 2,
     "metadata": {},
     "output_type": "execute_result"
    }
   ],
   "source": [
    "words = open('names.txt', 'r').read().splitlines()\n",
    "words[:5]"
   ]
  },
  {
   "cell_type": "code",
   "execution_count": 3,
   "metadata": {},
   "outputs": [
    {
     "name": "stdout",
     "output_type": "stream",
     "text": [
      "{1: 'a', 2: 'b', 3: 'c', 4: 'd', 5: 'e', 6: 'f', 7: 'g', 8: 'h', 9: 'i', 10: 'j', 11: 'k', 12: 'l', 13: 'm', 14: 'n', 15: 'o', 16: 'p', 17: 'q', 18: 'r', 19: 's', 20: 't', 21: 'u', 22: 'v', 23: 'w', 24: 'x', 25: 'y', 26: 'z', 0: '.'}\n"
     ]
    }
   ],
   "source": [
    "# build the vocabulary of characters and mappings to/from integers\n",
    "chars = sorted(list(set(''.join(words))))\n",
    "stoi = {s:i+1 for i,s in enumerate(chars)}\n",
    "stoi['.'] = 0\n",
    "itos = {i:s for s,i in stoi.items()}\n",
    "print(itos)"
   ]
  },
  {
   "cell_type": "code",
   "execution_count": 4,
   "metadata": {},
   "outputs": [],
   "source": [
    "# create dataset\n",
    "block_size = 3  # how many chars of context to predict next one\n",
    "\n",
    "def build_dataset(words):\n",
    "    X, Y = [], []\n",
    "    \n",
    "    for w in words:\n",
    "        context = [0] * block_size  # 0 is '.' in itos\n",
    "        for ch in w + '.':\n",
    "            ix = stoi[ch]\n",
    "            X.append(context)   # input is context\n",
    "            Y.append(ix)    # predict next char\n",
    "            context = context[1:] + [ix]    # shift context\n",
    "            \n",
    "        \n",
    "    X = torch.tensor(X)\n",
    "    Y = torch.tensor(Y)\n",
    "    print(X.shape, Y.shape) # (number of samples, block size)\n",
    "    return X,Y"
   ]
  },
  {
   "cell_type": "code",
   "execution_count": 5,
   "metadata": {},
   "outputs": [
    {
     "name": "stdout",
     "output_type": "stream",
     "text": [
      "torch.Size([182625, 3]) torch.Size([182625])\n",
      "torch.Size([22655, 3]) torch.Size([22655])\n",
      "torch.Size([22866, 3]) torch.Size([22866])\n"
     ]
    }
   ],
   "source": [
    "# train dev test split\n",
    "import random\n",
    "random.seed(42)\n",
    "random.shuffle(words)\n",
    "n1 = int(0.8*len(words))\n",
    "n2 = int(0.9*len(words))\n",
    "\n",
    "Xtr, Ytr = build_dataset(words[:n1])\n",
    "Xdev, Ydev = build_dataset(words[n1:n2])\n",
    "Xte, Yte = build_dataset(words[n2:])"
   ]
  },
  {
   "cell_type": "code",
   "execution_count": 7,
   "metadata": {},
   "outputs": [
    {
     "data": {
      "text/plain": [
       "11897"
      ]
     },
     "execution_count": 7,
     "metadata": {},
     "output_type": "execute_result"
    }
   ],
   "source": [
    "# create MLP with 2 hidden layers\n",
    "g = torch.Generator().manual_seed(2147483647)\n",
    "C = torch.randn((27,10), generator=g) # map 27-D->10-D embedding space; different from one-hot because these params are also optimized for to cluster semantically similar chars together\n",
    "W1 = torch.randn((30,200), generator=g)\n",
    "b1 = torch.randn(200, generator=g)\n",
    "W2 = torch.randn((200,27), generator=g)\n",
    "b2 = torch.randn(27, generator=g)\n",
    "\n",
    "parameters = [C,W1,b1,W2,b2]\n",
    "sum(p.nelement() for p in parameters)   # num of params total"
   ]
  },
  {
   "cell_type": "code",
   "execution_count": 18,
   "metadata": {},
   "outputs": [
    {
     "name": "stdout",
     "output_type": "stream",
     "text": [
      "tensor([[ 0,  0,  0],\n",
      "        [25, 21,  8]])\n",
      "torch.Size([2, 3, 10])\n"
     ]
    },
    {
     "data": {
      "text/plain": [
       "tensor([[[ 1.5674, -0.2373, -0.0274, -1.1008,  0.2859, -0.0296, -1.5471,\n",
       "           0.6049,  0.0791,  0.9046],\n",
       "         [ 1.5674, -0.2373, -0.0274, -1.1008,  0.2859, -0.0296, -1.5471,\n",
       "           0.6049,  0.0791,  0.9046],\n",
       "         [ 1.5674, -0.2373, -0.0274, -1.1008,  0.2859, -0.0296, -1.5471,\n",
       "           0.6049,  0.0791,  0.9046]],\n",
       "\n",
       "        [[-1.2801,  0.0924,  0.1053, -0.3907,  0.0317, -0.5475,  0.8183,\n",
       "          -0.8163, -0.3924, -0.7452],\n",
       "         [-0.2478,  0.8828, -0.0810, -0.9530, -0.4884, -0.7371,  0.7061,\n",
       "          -0.1930,  1.2348,  0.3331],\n",
       "         [-1.1641,  1.2473, -0.2706, -1.3635,  1.3066,  0.3231,  1.0358,\n",
       "          -0.8625, -1.2575,  0.9418]]], grad_fn=<IndexBackward0>)"
      ]
     },
     "execution_count": 18,
     "metadata": {},
     "output_type": "execute_result"
    }
   ],
   "source": [
    "print(Xtr[([0, 3])])   # see embeddings for the 0th and 3rd training sample\n",
    "emb = C[Xtr[([0, 3])]]\n",
    "print(emb.shape)\n",
    "emb"
   ]
  },
  {
   "cell_type": "code",
   "execution_count": 21,
   "metadata": {},
   "outputs": [],
   "source": [
    "for p in parameters: p.requires_grad=True\n",
    "lri, lossi, stepi = ([] for i in range(3))"
   ]
  },
  {
   "cell_type": "code",
   "execution_count": 22,
   "metadata": {},
   "outputs": [],
   "source": [
    "# training cycle\n",
    "for i in range(200000):\n",
    "    ix = torch.randint(0, Xtr.shape[0], (32,))  # minibatch size of 32\n",
    "    \n",
    "    # forward pass\n",
    "    emb = C[Xtr[ix]]    # (32, 3, 10); get embeddings for each sample in minibatch\n",
    "    h = torch.tanh(emb.view(-1,30) @ W1 + b1)   # (32, 30) @ (30, 200) = (32, 200); will squash all 3 letters in block together as one training sample\n",
    "    logits = h @ W2 + b2    # (32, 27); convert back to alphabet\n",
    "    loss = F.cross_entropy(logits, Ytr[ix])\n",
    "    \n",
    "    # backward pass\n",
    "    for p in parameters:\n",
    "        p.grad = None\n",
    "    loss.backward()\n",
    "    \n",
    "    # grad update\n",
    "    lr = 0.1 if i < 100000 else 0.01    # learning rate decay\n",
    "    for p in parameters:\n",
    "        p.data += -lr * p.grad\n",
    "\n",
    "    # learning curve\n",
    "    stepi.append(i)\n",
    "    lossi.append(loss.log10().item())"
   ]
  },
  {
   "cell_type": "code",
   "execution_count": 23,
   "metadata": {},
   "outputs": [
    {
     "data": {
      "text/plain": [
       "[<matplotlib.lines.Line2D at 0x7fc8bf2e4460>]"
      ]
     },
     "execution_count": 23,
     "metadata": {},
     "output_type": "execute_result"
    },
    {
     "data": {
      "image/png": "[encoded data removed]",
      "text/plain": [
       "<Figure size 640x480 with 1 Axes>"
      ]
     },
     "metadata": {},
     "output_type": "display_data"
    }
   ],
   "source": [
    "plt.plot(stepi, lossi)"
   ]
  },
  {
   "cell_type": "code",
   "execution_count": 25,
   "metadata": {},
   "outputs": [
    {
     "name": "stdout",
     "output_type": "stream",
     "text": [
      " 2.136911630630493\n",
      " 2.1736183166503906\n",
      " 2.1730170249938965\n"
     ]
    }
   ],
   "source": [
    "# training loss\n",
    "emb = C[Xtr]\n",
    "h = torch.tanh(emb.view(-1,30) @ W1 + b1)   # (32, 200)\n",
    "logits = h @ W2 + b2\n",
    "train_loss = F.cross_entropy(logits, Ytr)\n",
    "print(f\"{train_loss: }\")\n",
    "\n",
    "# validation loss\n",
    "\n",
    "emb = C[Xdev]\n",
    "h = torch.tanh(emb.view(-1,30) @ W1 + b1)   # (32, 200)\n",
    "logits = h @ W2 + b2\n",
    "dev_loss = F.cross_entropy(logits, Ydev)\n",
    "print(f\"{dev_loss: }\")\n",
    "\n",
    "# test loss\n",
    "\n",
    "emb = C[Xte]\n",
    "h = torch.tanh(emb.view(-1,30) @ W1 + b1)   # (32, 200)\n",
    "logits = h @ W2 + b2\n",
    "test_loss = F.cross_entropy(logits, Yte)\n",
    "print(f\"{test_loss: }\")\n"
   ]
  },
  {
   "cell_type": "code",
   "execution_count": 27,
   "metadata": {},
   "outputs": [
    {
     "data": {
      "image/png": "[encoded data removed]",
      "text/plain": [
       "<Figure size 800x800 with 1 Axes>"
      ]
     },
     "metadata": {},
     "output_type": "display_data"
    }
   ],
   "source": [
    "# visualize embedding matrix C when it is 2 dim\n",
    "plt.figure(figsize=(8,8))\n",
    "plt.scatter(C[:,0].data, C[:,1].data, s=200)    # get first and second dimensions of each char\n",
    "for i in range(C.shape[0]): # C is (27, 10); for each letter in alphabet\n",
    "    plt.text(C[i,0].item(), C[i,1].item(), itos[i], ha=\"center\", va=\"center\", color=\"white\")\n",
    "plt.grid('minor')"
   ]
  },
  {
   "cell_type": "code",
   "execution_count": 159,
   "metadata": {},
   "outputs": [
    {
     "name": "stdout",
     "output_type": "stream",
     "text": [
      "carlah.\n",
      "amelle.\n",
      "khi.\n",
      "mili.\n",
      "thal.\n"
     ]
    }
   ],
   "source": [
    "# sample from model\n",
    "g = torch.Generator().manual_seed(2147483647 + 10)\n",
    "\n",
    "for _ in range(5):\n",
    "    out = []\n",
    "    context = [0] * block_size # start with ...\n",
    "    while True:\n",
    "        emb = C[torch.tensor([context])]    # (1, 3, 10)\n",
    "        h = torch.tanh(emb.view(1, -1) @ W1 + b1)   # (3, 10)\n",
    "        logits = h @ W2 + b2\n",
    "        probs = F.softmax(logits, dim=1)\n",
    "        ix = torch.multinomial(probs, num_samples=1, generator=g).item()\n",
    "        context = context[1:] + [ix]\n",
    "        out.append(ix)\n",
    "        if ix == 0:\n",
    "            break\n",
    "\n",
    "    print(''.join(itos[i] for i in out))"
   ]
  },
  {
   "cell_type": "code",
   "execution_count": 66,
   "metadata": {},
   "outputs": [
    {
     "data": {
      "text/plain": [
       "<matplotlib.collections.PathCollection at 0x7fc87dcbfb80>"
      ]
     },
     "execution_count": 66,
     "metadata": {},
     "output_type": "execute_result"
    },
    {
     "data": {
      "image/png": "[encoded data removed]",
      "text/plain": [
       "<Figure size 640x480 with 1 Axes>"
      ]
     },
     "metadata": {},
     "output_type": "display_data"
    }
   ],
   "source": [
    "# curious about what letters are likely to come first\n",
    "emb = C[torch.tensor([0,0,0])]    # (1, 3, 10)\n",
    "h = torch.tanh(emb.view(1, -1) @ W1 + b1)   # (3, 10)\n",
    "logits = h @ W2 + b2\n",
    "probs = F.softmax(logits, dim=1)\n",
    "\n",
    "ys = probs.tolist()[0]\n",
    "xs = [itos[i] for i,_ in enumerate(ys)]\n",
    "\n",
    "plt.scatter(xs, ys)"
   ]
  },
  {
   "cell_type": "markdown",
   "metadata": {},
   "source": [
    "## Exercises"
   ]
  },
  {
   "cell_type": "markdown",
   "metadata": {},
   "source": [
    "- E01: Tune the hyperparameters of the training to beat my best validation loss of 2.2\n",
    "\n",
    "Tunable params: lr, neurons in hidden layer W, dim in embedding (could also do epochs or minibatch size)"
   ]
  },
  {
   "cell_type": "code",
   "execution_count": 131,
   "metadata": {},
   "outputs": [
    {
     "name": "stdout",
     "output_type": "stream",
     "text": [
      "tensor([0.0010, 0.0022, 0.0046, 0.0100, 0.0215, 0.0464, 0.1000, 0.2154, 0.4642,\n",
      "        1.0000])\n",
      "tensor([ 50, 100, 150, 200, 250, 300, 350, 400, 450, 500])\n",
      "tensor([ 2,  4,  6,  8, 10, 12, 14, 16, 18, 20])\n"
     ]
    }
   ],
   "source": [
    "# define hyperparams\n",
    "\n",
    "lre = torch.linspace(-3, 0, 10)\n",
    "lrs = 10**lre\n",
    "print(lrs)\n",
    "\n",
    "neurons = torch.linspace(50, 500, 10, dtype=int)\n",
    "print(neurons)\n",
    "\n",
    "dims = torch.linspace(2, 20, 10, dtype=int)\n",
    "print(dims)"
   ]
  },
  {
   "cell_type": "code",
   "execution_count": 102,
   "metadata": {},
   "outputs": [],
   "source": [
    "import numpy as np\n",
    "results_mat = np.zeros((10,10,10))"
   ]
  },
  {
   "cell_type": "code",
   "execution_count": 126,
   "metadata": {},
   "outputs": [],
   "source": [
    "# grid search\n",
    "\n",
    "for i,lr in enumerate(lrs):\n",
    "    for j,n in enumerate(neurons):\n",
    "        for k,dim in enumerate(dims):\n",
    "            C = torch.randn((27,dim), generator=g)\n",
    "            W1 = torch.randn((dim*3,n), generator=g)\n",
    "            b1 = torch.randn(n, generator=g)\n",
    "            W2 = torch.randn((n,27), generator=g)\n",
    "            b2 = torch.randn(27, generator=g)\n",
    "\n",
    "            parameters = [C,W1,b1,W2,b2]\n",
    "            \n",
    "            for p in parameters: p.requires_grad=True\n",
    "            \n",
    "            # training cycle\n",
    "            for _ in range(2000):\n",
    "                ix = torch.randint(0, Xtr.shape[0], (32,))  # minibatch size of 32\n",
    "                \n",
    "                # forward pass\n",
    "                emb = C[Xtr[ix]]    # (32, 3, 10); get embeddings for each sample in minibatch\n",
    "                h = torch.tanh(emb.view(-1,dim*3) @ W1 + b1)   # (32, 30) @ (30, 200) = (32, 200); will squash all 3 letters in block together as one training sample\n",
    "                logits = h @ W2 + b2    # (32, 27); convert back to alphabet\n",
    "                loss = F.cross_entropy(logits, Ytr[ix])\n",
    "                \n",
    "                # backward pass\n",
    "                for p in parameters:\n",
    "                    p.grad = None\n",
    "                loss.backward()\n",
    "                \n",
    "                # grad update\n",
    "                for p in parameters:\n",
    "                    p.data += -lr * p.grad\n",
    "\n",
    "            # validation loss\n",
    "\n",
    "            emb = C[Xdev]\n",
    "            h = torch.tanh(emb.view(-1,dim*3) @ W1 + b1)   # (32, 200)\n",
    "            logits = h @ W2 + b2\n",
    "            dev_loss = F.cross_entropy(logits, Ydev)\n",
    "\n",
    "            results_mat[i][j][k] = dev_loss.item()"
   ]
  },
  {
   "cell_type": "code",
   "execution_count": 127,
   "metadata": {},
   "outputs": [
    {
     "name": "stdout",
     "output_type": "stream",
     "text": [
      "(7, 0, 1)\n",
      "2.500591516494751\n",
      "tensor(0.2154) tensor(50) tensor(4)\n"
     ]
    }
   ],
   "source": [
    "# find best settings\n",
    "idx = np.unravel_index(np.argmin(results_mat), results_mat.shape)\n",
    "print(idx)\n",
    "print(results_mat[idx])\n",
    "print(lrs[idx[0]], neurons[idx[1]], dims[idx[2]])"
   ]
  },
  {
   "cell_type": "code",
   "execution_count": 138,
   "metadata": {},
   "outputs": [],
   "source": [
    "# training cycle\n",
    "\n",
    "lr = 0.2154\n",
    "n = 50\n",
    "dim = 4\n",
    "\n",
    "C = torch.randn((27,dim), generator=g)\n",
    "W1 = torch.randn((dim*3,n), generator=g)\n",
    "b1 = torch.randn(n, generator=g)\n",
    "W2 = torch.randn((n,27), generator=g)\n",
    "b2 = torch.randn(27, generator=g)\n",
    "\n",
    "parameters = [C,W1,b1,W2,b2]\n",
    "\n",
    "for p in parameters: p.requires_grad=True\n",
    "\n",
    "for i in range(200000):\n",
    "    ix = torch.randint(0, Xtr.shape[0], (32,))  # minibatch size of 32\n",
    "    \n",
    "    # forward pass\n",
    "    emb = C[Xtr[ix]]    # (32, 3, 10); get embeddings for each sample in minibatch\n",
    "    h = torch.tanh(emb.view(-1,3*dim) @ W1 + b1)   # (32, 30) @ (30, 200) = (32, 200); will squash all 3 letters in block together as one training sample\n",
    "    logits = h @ W2 + b2    # (32, 27); convert back to alphabet\n",
    "    loss = F.cross_entropy(logits, Ytr[ix])\n",
    "    # print(loss)\n",
    "    \n",
    "    # backward pass\n",
    "    for p in parameters:\n",
    "        p.grad = None\n",
    "    loss.backward()\n",
    "    \n",
    "    # grad update\n",
    "    for p in parameters:\n",
    "        p.data += -lr * p.grad"
   ]
  },
  {
   "cell_type": "code",
   "execution_count": 139,
   "metadata": {},
   "outputs": [
    {
     "name": "stdout",
     "output_type": "stream",
     "text": [
      " 2.2517855167388916\n",
      " 2.264915943145752\n",
      " 2.264674186706543\n"
     ]
    }
   ],
   "source": [
    "# training loss\n",
    "emb = C[Xtr]\n",
    "h = torch.tanh(emb.view(-1,3*dim) @ W1 + b1)   # (32, 200)\n",
    "logits = h @ W2 + b2\n",
    "train_loss = F.cross_entropy(logits, Ytr)\n",
    "print(f\"{train_loss: }\")\n",
    "\n",
    "# validation loss\n",
    "\n",
    "emb = C[Xdev]\n",
    "h = torch.tanh(emb.view(-1,3*dim) @ W1 + b1)   # (32, 200)\n",
    "logits = h @ W2 + b2\n",
    "dev_loss = F.cross_entropy(logits, Ydev)\n",
    "print(f\"{dev_loss: }\")\n",
    "\n",
    "# test loss\n",
    "\n",
    "emb = C[Xte]\n",
    "h = torch.tanh(emb.view(-1,3*dim) @ W1 + b1)   # (32, 200)\n",
    "logits = h @ W2 + b2\n",
    "test_loss = F.cross_entropy(logits, Yte)\n",
    "print(f\"{test_loss: }\")\n"
   ]
  },
  {
   "cell_type": "markdown",
   "metadata": {},
   "source": [
    "- E02: I was not careful with the intialization of the network in this video. (1) What is the loss you'd get if the predicted probabilities at initialization were perfectly uniform? What loss do we achieve? (2) Can you tune the initialization to get a starting loss that is much more similar to (1)?\n",
    "\n",
    "1) Default is all the embeddings and weights the same\n",
    "2) Starting initialization of weights should be random but divided by stdev"
   ]
  },
  {
   "cell_type": "code",
   "execution_count": 155,
   "metadata": {},
   "outputs": [],
   "source": [
    "# create MLP with 2 hidden layers\n",
    "g = torch.Generator().manual_seed(2147483647)\n",
    "C = torch.rand((27,10), generator=g) # rand is uniform distribution instead of randn\n",
    "W1 = torch.rand((30,200), generator=g)\n",
    "b1 = torch.rand(200, generator=g)\n",
    "W2 = torch.rand((200,27), generator=g)\n",
    "b2 = torch.rand(27, generator=g)\n",
    "\n",
    "parameters = [C,W1,b1,W2,b2]\n",
    "sum(p.nelement() for p in parameters)   # num of params total\n",
    "\n",
    "for p in parameters: p.requires_grad=True"
   ]
  },
  {
   "cell_type": "code",
   "execution_count": 156,
   "metadata": {},
   "outputs": [],
   "source": [
    "# training cycle\n",
    "for i in range(200000):\n",
    "    ix = torch.randint(0, Xtr.shape[0], (32,))  # minibatch size of 32\n",
    "    \n",
    "    # forward pass\n",
    "    emb = C[Xtr[ix]]    # (32, 3, 10); get embeddings for each sample in minibatch\n",
    "    h = torch.tanh(emb.view(-1,30) @ W1 + b1)   # (32, 30) @ (30, 200) = (32, 200); will squash all 3 letters in block together as one training sample\n",
    "    logits = h @ W2 + b2    # (32, 27); convert back to alphabet\n",
    "    loss = F.cross_entropy(logits, Ytr[ix])\n",
    "    \n",
    "    # backward pass\n",
    "    for p in parameters:\n",
    "        p.grad = None\n",
    "    loss.backward()\n",
    "    \n",
    "    # grad update\n",
    "    lr = 0.1 if i < 100000 else 0.01    # learning rate decay\n",
    "    for p in parameters:\n",
    "        p.data += -lr * p.grad\n",
    "\n",
    "    # learning curve\n",
    "    stepi.append(i)\n",
    "    lossi.append(loss.log10().item())"
   ]
  },
  {
   "cell_type": "code",
   "execution_count": 158,
   "metadata": {},
   "outputs": [
    {
     "name": "stdout",
     "output_type": "stream",
     "text": [
      " 2.0713155269622803\n",
      " 2.1191556453704834\n",
      " 2.117372751235962\n"
     ]
    }
   ],
   "source": [
    "# training loss\n",
    "emb = C[Xtr]\n",
    "h = torch.tanh(emb.view(-1,30) @ W1 + b1)   # (32, 200)\n",
    "logits = h @ W2 + b2\n",
    "train_loss = F.cross_entropy(logits, Ytr)\n",
    "print(f\"{train_loss: }\")\n",
    "\n",
    "# validation loss\n",
    "\n",
    "emb = C[Xdev]\n",
    "h = torch.tanh(emb.view(-1,30) @ W1 + b1)   # (32, 200)\n",
    "logits = h @ W2 + b2\n",
    "dev_loss = F.cross_entropy(logits, Ydev)\n",
    "print(f\"{dev_loss: }\")\n",
    "\n",
    "# test loss\n",
    "\n",
    "emb = C[Xte]\n",
    "h = torch.tanh(emb.view(-1,30) @ W1 + b1)   # (32, 200)\n",
    "logits = h @ W2 + b2\n",
    "test_loss = F.cross_entropy(logits, Yte)\n",
    "print(f\"{test_loss: }\")\n"
   ]
  },
  {
   "cell_type": "markdown",
   "metadata": {},
   "source": [
    "### CORRRECTION\n",
    "\n",
    "What he did was calculate the expected loss if it was all the probabilities were the same. A uniform distribution is achieved if all predicted probabilities are the same, which is the same as all logits being equal (ex. all 0). So he saw that the logits = h@W2+b2 can be all 0 if you initialize by multiplying b2 by 0 and make W2 very small. We don't want to make W2 0 because then it can hurt its learning."
   ]
  },
  {
   "cell_type": "code",
   "execution_count": 4,
   "metadata": {},
   "outputs": [
    {
     "data": {
      "text/plain": [
       "tensor(3.2958)"
      ]
     },
     "execution_count": 4,
     "metadata": {},
     "output_type": "execute_result"
    }
   ],
   "source": [
    "-torch.tensor(1/27.0).log() # one that is supposed to be right is predicted with probability 1/27"
   ]
  },
  {
   "cell_type": "markdown",
   "metadata": {},
   "source": [
    "- E03: Read the Bengio et al 2003 paper (link above), implement and try any idea from the paper. Did it work?\n",
    "\n",
    "Main difference between n-gram and MLP model: n-gram builds a huge lookup table which captures all the precise probabilities of next letter, whereas in the MLP model we use 2 layers for encoding into a feature space and then transforming that feature space inputs via a tanh hidden layer to approximate a probability."
   ]
  }
 ],
 "metadata": {
  "kernelspec": {
   "display_name": "ml",
   "language": "python",
   "name": "python3"
  },
  "language_info": {
   "codemirror_mode": {
    "name": "ipython",
    "version": 3
   },
   "file_extension": ".py",
   "mimetype": "text/x-python",
   "name": "python",
   "nbconvert_exporter": "python",
   "pygments_lexer": "ipython3",
   "version": "3.9.13"
  },
  "orig_nbformat": 4,
  "vscode": {
   "interpreter": {
    "hash": "696138aadfbb39da019b0f4a82f739b9650213a50720b5fab5db3742a6f6c84f"
   }
  }
 },
 "nbformat": 4,
 "nbformat_minor": 2
}
